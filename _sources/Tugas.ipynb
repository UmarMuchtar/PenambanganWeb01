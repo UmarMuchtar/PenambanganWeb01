{
 "cells": [
  {
   "cell_type": "markdown",
   "metadata": {},
   "source": [
    "# Profile"
   ]
  },
  {
   "cell_type": "markdown",
   "metadata": {},
   "source": [
    "<H3>Nama: Umar Muchtar Khaidzar\n",
    "<H3>NIM: 220411100108"
   ]
  },
  {
   "cell_type": "markdown",
   "metadata": {},
   "source": [
    "Nama saya Umar Muchtar Khaidzar, mahasiswa semester 7 program studi teknik informatika Universitas Trunojoyo Madura. Saya berasal dari Kabupaten Mojokerto, Jawa Timur. "
   ]
  },
  {
   "cell_type": "markdown",
   "metadata": {},
   "source": [
    "Tujuan saya membuat web ini adalah untuk memenuhi tugas mata kuliah pencarian & penambangan web yang saya pelajari pada semester 7 saat ini. Web ini nantinya akan berisi tugas-tugas yang saya kerjakan selama saya belajar pencarian & penambangan web."
   ]
  }
 ],
 "metadata": {
  "language_info": {
   "name": "python"
  }
 },
 "nbformat": 4,
 "nbformat_minor": 2
}
