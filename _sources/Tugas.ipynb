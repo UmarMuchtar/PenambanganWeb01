{
 "cells": [
  {
   "cell_type": "markdown",
   "metadata": {},
   "source": [
    "### Nama: Umar Muchtar Khaidzar\n",
    "### NIM: 220411100108"
   ]
  }
 ],
 "metadata": {
  "language_info": {
   "name": "python"
  }
 },
 "nbformat": 4,
 "nbformat_minor": 2
}
