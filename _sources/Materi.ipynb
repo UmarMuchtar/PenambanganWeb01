{
 "cells": [
  {
   "cell_type": "markdown",
   "id": "45b382f0",
   "metadata": {},
   "source": [
    "# Pengembangan Materi Pencarian & Penambangan Web"
   ]
  },
  {
   "cell_type": "markdown",
   "id": "ad8ef45e",
   "metadata": {},
   "source": [
    "## Definisi"
   ]
  },
  {
   "cell_type": "markdown",
   "id": "9c09d795",
   "metadata": {},
   "source": [
    "Penambangan web (web mining) merupakan proses mencari informasi dari internet dengan menggunakan beberapa metode. Informasi yang didapatkan nantinya akan digunakan untuk landasan pengambilan keputusan."
   ]
  },
  {
   "cell_type": "markdown",
   "id": "9253c620",
   "metadata": {},
   "source": [
    "## Tujuan"
   ]
  },
  {
   "cell_type": "markdown",
   "id": "02a332cf",
   "metadata": {},
   "source": [
    "Tujuan dari web mining adalah mendapatkan informasi dari internet yang dibutuhkan untuk membuat keputusan."
   ]
  },
  {
   "cell_type": "markdown",
   "id": "4e4a214c",
   "metadata": {},
   "source": [
    "## Tantangan Dalam Penambangan Web"
   ]
  },
  {
   "cell_type": "markdown",
   "id": "baf9f9f0",
   "metadata": {},
   "source": [
    "Dalam penerapannya, penambangan data pada web memiliki tantangan tersendiri seperti struktur yang kompleks, data yang dinamis dan tidak terstruktur.  "
   ]
  },
  {
   "cell_type": "markdown",
   "id": "d851f5cc",
   "metadata": {},
   "source": [
    "## Pengaplikasian Web Mining"
   ]
  },
  {
   "cell_type": "markdown",
   "id": "b63b1c2c",
   "metadata": {},
   "source": [
    "### Klasifikasi Dokumen"
   ]
  },
  {
   "cell_type": "markdown",
   "id": "61035834",
   "metadata": {},
   "source": [
    "Klasifikasi dokumen adalah proses pemberian label pada dokumen web (halaman HTML) ke dalam kategori yang telah ditentukan."
   ]
  },
  {
   "cell_type": "markdown",
   "id": "0f39c679",
   "metadata": {},
   "source": [
    "Tujuan dari klasifikasi dokumen adalah mengelompokkan dokumen atau gambar yang didapatkan kategorinya masing-masing secara akurat."
   ]
  },
  {
   "cell_type": "markdown",
   "id": "047bac6f",
   "metadata": {},
   "source": [
    "Contoh:\n",
    "- Pengelompokkan jenis berita\n",
    "- Pengelompokkan produk\n",
    "- Deteksi spam"
   ]
  },
  {
   "cell_type": "markdown",
   "id": "a0ff786f",
   "metadata": {},
   "source": [
    "Contoh metode yang digunakan dalam klasifikasi dokumen adalah Naive Bayes, SVM, dan lain lain."
   ]
  },
  {
   "cell_type": "markdown",
   "id": "ae084856",
   "metadata": {},
   "source": [
    "### Pengelompokkan Konten"
   ]
  },
  {
   "cell_type": "markdown",
   "id": "bde097f5",
   "metadata": {},
   "source": [
    "Pengelompokkan konten adalah proses mengelompokkan dokumen-dokumen web kedalam kelompok(cluster) yang dimana dalam suatu kelompok memiliki kemiripan yang tinggi dan pada kelompok yang lainnya memiliki kemiripan yang rendah."
   ]
  },
  {
   "cell_type": "markdown",
   "id": "8f29ef7c",
   "metadata": {},
   "source": [
    "Tujuan dari pengelompokkan konten adalah untuk menemukan pola tersembunyi saat mengelompokkan dokumen."
   ]
  },
  {
   "cell_type": "markdown",
   "id": "ad8b2690",
   "metadata": {},
   "source": [
    "Contoh:\n",
    "- Pengelompokkan hasil pencarian\n",
    "- Penemuan topik"
   ]
  },
  {
   "cell_type": "markdown",
   "id": "b6e29e73",
   "metadata": {},
   "source": [
    "Contoh metode yang digunakan dalam pengelompokkan konten adalah K-Means."
   ]
  },
  {
   "cell_type": "markdown",
   "id": "a14b5d42",
   "metadata": {},
   "source": [
    "### Analisa Sentimen"
   ]
  },
  {
   "cell_type": "markdown",
   "id": "53f27ba7",
   "metadata": {},
   "source": [
    "Analisis adalah proses mengidentifikasi, mengekstraksi opini/sentimen dari teks dalam dokumen web."
   ]
  },
  {
   "cell_type": "markdown",
   "id": "123b75e4",
   "metadata": {},
   "source": [
    "Tujuan analisa sentimen adalah memahami persepsi publik terhadap suatu hal yang nantinya digunakan untuk landasan pengambilan keputusan."
   ]
  },
  {
   "cell_type": "markdown",
   "id": "95f2481f",
   "metadata": {},
   "source": [
    "Contoh:\n",
    "- Ulasan produk e-commerce\n",
    "- Monitoring media sosial\n",
    "- Anilisis opini publik"
   ]
  },
  {
   "cell_type": "markdown",
   "id": "5d2a5914",
   "metadata": {},
   "source": [
    "Contoh metode yang digunakan untuk analisa sentimen adalah Lexicon-Based Approach, Naive Bayes, dan SVM."
   ]
  },
  {
   "cell_type": "markdown",
   "id": "f86eb129",
   "metadata": {},
   "source": [
    "### Ekstraksi Informasi"
   ]
  },
  {
   "cell_type": "markdown",
   "id": "ec44fcb9",
   "metadata": {},
   "source": [
    "Ekstraksi informasi adalah proses mengekstraksi data terstruktur dari dokumen web yang tidak terstruktur."
   ]
  },
  {
   "cell_type": "markdown",
   "id": "38467287",
   "metadata": {},
   "source": [
    "Tujuan dari ekstraksi informasi adalah mengubah data tidak terstruktur menjadi data yang terstruktur sehingga dapat dianalisa."
   ]
  },
  {
   "cell_type": "markdown",
   "id": "c4ffff87",
   "metadata": {},
   "source": [
    "Contoh:\n",
    "- Ringkasan profil\n",
    "- Ekstraksi produk e-commerce"
   ]
  },
  {
   "cell_type": "markdown",
   "id": "62d02e82",
   "metadata": {},
   "source": [
    "Contoh metode yang digunakan untuk ekstraksi informasi adalah NER (Named Entity Recognition) dan Relation Extraction. "
   ]
  },
  {
   "cell_type": "markdown",
   "id": "aaf2f1a0",
   "metadata": {},
   "source": [
    "## Tahapan Pemrosesan Data Penambangan Web"
   ]
  },
  {
   "cell_type": "markdown",
   "id": "aee4c84a",
   "metadata": {},
   "source": [
    "### Bussiness Understanding"
   ]
  },
  {
   "cell_type": "markdown",
   "id": "edf568c2",
   "metadata": {},
   "source": [
    "Bussiness understanding adalah tahapan pertama dari penambangan web. Tahapan ini tentang mengetahui latar belakang atau tujuan dari projek yang akan dikerjakan. Kemudian dilanjutkan dengan pengambilan data dari web. "
   ]
  },
  {
   "cell_type": "markdown",
   "id": "23983260",
   "metadata": {},
   "source": [
    "### Data Understanding"
   ]
  },
  {
   "cell_type": "markdown",
   "id": "6a5cc8f0",
   "metadata": {},
   "source": [
    "Data understanding adalah tahapan untuk mendeskripsikan/mengenali data yang sudah diperoleh dari web."
   ]
  },
  {
   "cell_type": "markdown",
   "id": "7b85b917",
   "metadata": {},
   "source": [
    "### Data Preprocessing"
   ]
  },
  {
   "cell_type": "markdown",
   "id": "ef6db1b2",
   "metadata": {},
   "source": [
    "Data yang telah diperoleh selanjutnya diproses sebelum dilatih dengan menggunakan model. Proses yang diterapkan pada tahapan ini diantaranya adalah mengecilkan dimensi data, pengisian missing value, menangani outlier, dan lain lain."
   ]
  },
  {
   "cell_type": "markdown",
   "id": "5889ec6d",
   "metadata": {},
   "source": [
    "### Modeling"
   ]
  },
  {
   "cell_type": "markdown",
   "id": "e5b683ad",
   "metadata": {},
   "source": [
    "Data yang sudah di-preprocessing kemudian digunakan pada beberapa model."
   ]
  },
  {
   "cell_type": "markdown",
   "id": "28ba364e",
   "metadata": {},
   "source": [
    "### Evaluasi"
   ]
  },
  {
   "cell_type": "markdown",
   "id": "e4cea886",
   "metadata": {},
   "source": [
    "Setelah mendapatkan hasil dari modeling, hasil tersebut kemudian dianalisa untuk menentukan model terbaik yang akan digunakan pada aplikasi."
   ]
  },
  {
   "cell_type": "markdown",
   "id": "1489f399",
   "metadata": {},
   "source": [
    "### Deployment"
   ]
  },
  {
   "cell_type": "markdown",
   "id": "6ea22e44",
   "metadata": {},
   "source": [
    "Setelah model dipilih, model tersebut akan diterapkan pada aplikasi yang ingin dibangun sebagai produk akhir dari projek yang dikerjakan."
   ]
  }
 ],
 "metadata": {
  "language_info": {
   "name": "python"
  }
 },
 "nbformat": 4,
 "nbformat_minor": 5
}
